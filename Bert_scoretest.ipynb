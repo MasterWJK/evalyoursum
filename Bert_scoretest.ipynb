{
 "cells": [
  {
   "cell_type": "code",
   "execution_count": null,
   "metadata": {},
   "outputs": [],
   "source": [
    "from bert_score import BERTScorer\n",
    "\n",
    "scorer = BERTScorer(lang=\"en\")\n",
    "\n",
    "# Example reference and candidate sentences\n",
    "references = [\"The cat is on the mat.\"]\n",
    "candidates = [\"The cat is sitting on the mat.\"]\n",
    "\n",
    "# Calculate BERT scores\n",
    "P, R, F1 = scorer.score(candidates, references)\n",
    "\n",
    "# Print the scores\n",
    "print(f\"Precision: {P.item():.4f}\")\n",
    "print(f\"Recall: {R.item():.4f}\")\n",
    "print(f\"F1 score: {F1.item():.4f}\")"
   ]
  }
 ],
 "metadata": {
  "kernelspec": {
   "display_name": "Python 3",
   "language": "python",
   "name": "python3"
  },
  "language_info": {
   "codemirror_mode": {
    "name": "ipython",
    "version": 3
   },
   "file_extension": ".py",
   "mimetype": "text/x-python",
   "name": "python",
   "nbconvert_exporter": "python",
   "pygments_lexer": "ipython3",
   "version": "3.9.13"
  }
 },
 "nbformat": 4,
 "nbformat_minor": 2
}
